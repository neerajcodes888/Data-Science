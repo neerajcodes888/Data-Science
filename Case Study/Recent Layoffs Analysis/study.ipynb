{
 "cells": [
  {
   "cell_type": "markdown",
   "id": "29c58dd1",
   "metadata": {},
   "source": [
    "# Layoffs Case Study"
   ]
  },
  {
   "cell_type": "markdown",
   "id": "b02d3e6a",
   "metadata": {},
   "source": [
    "### Importing necessary libraries"
   ]
  },
  {
   "cell_type": "code",
   "execution_count": null,
   "id": "984bed8d",
   "metadata": {},
   "outputs": [],
   "source": [
    "import pandas as pd\n",
    "    "
   ]
  }
 ],
 "metadata": {
  "language_info": {
   "name": "python"
  }
 },
 "nbformat": 4,
 "nbformat_minor": 5
}
