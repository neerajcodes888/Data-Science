{
 "cells": [
  {
   "cell_type": "markdown",
   "id": "29c58dd1",
   "metadata": {},
   "source": [
    "# Layoffs Case Study"
   ]
  },
  {
   "cell_type": "markdown",
   "id": "b02d3e6a",
   "metadata": {},
   "source": [
    "### Importing necessary libraries"
   ]
  },
  {
   "cell_type": "code",
   "execution_count": 1,
   "id": "984bed8d",
   "metadata": {},
   "outputs": [],
   "source": [
    "import pandas as pd\n",
    "import numpy as np\n",
    "import matplotlib.pyplot as plt\n",
    "    "
   ]
  },
  {
   "cell_type": "markdown",
   "id": "e52a35ca",
   "metadata": {},
   "source": [
    "### Data Import"
   ]
  },
  {
   "cell_type": "code",
   "execution_count": 2,
   "id": "f9c82e4e",
   "metadata": {},
   "outputs": [],
   "source": [
    "url = \"https://raw.githubusercontent.com/neerajcodes888/Data-Science/main/Case%20Study/Recent%20Layoffs%20Analysis/layoffs.csv\"\n",
    "\n",
    "data = pd.read_csv(url)"
   ]
  },
  {
   "cell_type": "code",
   "execution_count": 3,
   "id": "05b98afb",
   "metadata": {},
   "outputs": [
    {
     "data": {
      "text/html": [
       "<div>\n",
       "<style scoped>\n",
       "    .dataframe tbody tr th:only-of-type {\n",
       "        vertical-align: middle;\n",
       "    }\n",
       "\n",
       "    .dataframe tbody tr th {\n",
       "        vertical-align: top;\n",
       "    }\n",
       "\n",
       "    .dataframe thead th {\n",
       "        text-align: right;\n",
       "    }\n",
       "</style>\n",
       "<table border=\"1\" class=\"dataframe\">\n",
       "  <thead>\n",
       "    <tr style=\"text-align: right;\">\n",
       "      <th></th>\n",
       "      <th>company</th>\n",
       "      <th>location</th>\n",
       "      <th>total_laid_off</th>\n",
       "      <th>date</th>\n",
       "      <th>percentage_laid_off</th>\n",
       "      <th>industry</th>\n",
       "      <th>source</th>\n",
       "      <th>stage</th>\n",
       "      <th>funds_raised</th>\n",
       "      <th>country</th>\n",
       "      <th>date_added</th>\n",
       "    </tr>\n",
       "  </thead>\n",
       "  <tbody>\n",
       "    <tr>\n",
       "      <th>0</th>\n",
       "      <td>Kaltura</td>\n",
       "      <td>New York City</td>\n",
       "      <td>70.0</td>\n",
       "      <td>8/7/2025</td>\n",
       "      <td>10%</td>\n",
       "      <td>Media</td>\n",
       "      <td>https://www.calcalistech.com/ctechnews/article...</td>\n",
       "      <td>Post-IPO</td>\n",
       "      <td>$166</td>\n",
       "      <td>United States</td>\n",
       "      <td>8/10/2025</td>\n",
       "    </tr>\n",
       "    <tr>\n",
       "      <th>1</th>\n",
       "      <td>Peloton</td>\n",
       "      <td>New York City</td>\n",
       "      <td>NaN</td>\n",
       "      <td>8/7/2025</td>\n",
       "      <td>6%</td>\n",
       "      <td>Fitness</td>\n",
       "      <td>https://www.reuters.com/technology/peloton-cut...</td>\n",
       "      <td>Post-IPO</td>\n",
       "      <td>$1900</td>\n",
       "      <td>United States</td>\n",
       "      <td>8/10/2025</td>\n",
       "    </tr>\n",
       "    <tr>\n",
       "      <th>2</th>\n",
       "      <td>Yotpo</td>\n",
       "      <td>New York City</td>\n",
       "      <td>200.0</td>\n",
       "      <td>8/5/2025</td>\n",
       "      <td>34%</td>\n",
       "      <td>Marketing</td>\n",
       "      <td>https://www.calcalistech.com/ctechnews/article...</td>\n",
       "      <td>Unknown</td>\n",
       "      <td>$436</td>\n",
       "      <td>United States</td>\n",
       "      <td>8/5/2025</td>\n",
       "    </tr>\n",
       "    <tr>\n",
       "      <th>3</th>\n",
       "      <td>Windsurf</td>\n",
       "      <td>SF Bay Area</td>\n",
       "      <td>30.0</td>\n",
       "      <td>8/5/2025</td>\n",
       "      <td>NaN</td>\n",
       "      <td>AI</td>\n",
       "      <td>https://techcrunch.com/2025/08/05/three-weeks-...</td>\n",
       "      <td>Acquired</td>\n",
       "      <td>$243</td>\n",
       "      <td>United States</td>\n",
       "      <td>8/10/2025</td>\n",
       "    </tr>\n",
       "    <tr>\n",
       "      <th>4</th>\n",
       "      <td>Wondery</td>\n",
       "      <td>Los Angeles</td>\n",
       "      <td>100.0</td>\n",
       "      <td>8/4/2025</td>\n",
       "      <td>NaN</td>\n",
       "      <td>Media</td>\n",
       "      <td>https://variety.com/2025/biz/news/amazon-reorg...</td>\n",
       "      <td>Acquired</td>\n",
       "      <td>$15</td>\n",
       "      <td>United States</td>\n",
       "      <td>8/5/2025</td>\n",
       "    </tr>\n",
       "  </tbody>\n",
       "</table>\n",
       "</div>"
      ],
      "text/plain": [
       "    company       location  total_laid_off      date percentage_laid_off  \\\n",
       "0   Kaltura  New York City            70.0  8/7/2025                 10%   \n",
       "1   Peloton  New York City             NaN  8/7/2025                  6%   \n",
       "2     Yotpo  New York City           200.0  8/5/2025                 34%   \n",
       "3  Windsurf    SF Bay Area            30.0  8/5/2025                 NaN   \n",
       "4   Wondery    Los Angeles           100.0  8/4/2025                 NaN   \n",
       "\n",
       "    industry                                             source     stage  \\\n",
       "0      Media  https://www.calcalistech.com/ctechnews/article...  Post-IPO   \n",
       "1    Fitness  https://www.reuters.com/technology/peloton-cut...  Post-IPO   \n",
       "2  Marketing  https://www.calcalistech.com/ctechnews/article...   Unknown   \n",
       "3         AI  https://techcrunch.com/2025/08/05/three-weeks-...  Acquired   \n",
       "4      Media  https://variety.com/2025/biz/news/amazon-reorg...  Acquired   \n",
       "\n",
       "  funds_raised        country date_added  \n",
       "0         $166  United States  8/10/2025  \n",
       "1        $1900  United States  8/10/2025  \n",
       "2         $436  United States   8/5/2025  \n",
       "3         $243  United States  8/10/2025  \n",
       "4          $15  United States   8/5/2025  "
      ]
     },
     "execution_count": 3,
     "metadata": {},
     "output_type": "execute_result"
    }
   ],
   "source": [
    "data.head()"
   ]
  },
  {
   "cell_type": "code",
   "execution_count": null,
   "id": "4e882ec7",
   "metadata": {},
   "outputs": [],
   "source": []
  }
 ],
 "metadata": {
  "kernelspec": {
   "display_name": "Python 3",
   "language": "python",
   "name": "python3"
  },
  "language_info": {
   "codemirror_mode": {
    "name": "ipython",
    "version": 3
   },
   "file_extension": ".py",
   "mimetype": "text/x-python",
   "name": "python",
   "nbconvert_exporter": "python",
   "pygments_lexer": "ipython3",
   "version": "3.13.2"
  }
 },
 "nbformat": 4,
 "nbformat_minor": 5
}
