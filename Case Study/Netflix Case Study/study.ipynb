{
 "cells": [
  {
   "cell_type": "markdown",
   "id": "dd16fb6d",
   "metadata": {},
   "source": [
    "# 🎬✨ Netflix Data Case Study 📊🔍"
   ]
  },
  {
   "cell_type": "markdown",
   "id": "7393c8ed",
   "metadata": {},
   "source": []
  },
  {
   "cell_type": "markdown",
   "id": "62ca6428",
   "metadata": {},
   "source": [
    "## 📁 1. Dataset Overview 📄"
   ]
  },
  {
   "cell_type": "code",
   "execution_count": null,
   "id": "63e09a99",
   "metadata": {},
   "outputs": [],
   "source": []
  }
 ],
 "metadata": {
  "kernelspec": {
   "display_name": "Python 3",
   "language": "python",
   "name": "python3"
  },
  "language_info": {
   "codemirror_mode": {
    "name": "ipython",
    "version": 3
   },
   "file_extension": ".py",
   "mimetype": "text/x-python",
   "name": "python",
   "nbconvert_exporter": "python",
   "pygments_lexer": "ipython3",
   "version": "3.13.2"
  }
 },
 "nbformat": 4,
 "nbformat_minor": 5
}
