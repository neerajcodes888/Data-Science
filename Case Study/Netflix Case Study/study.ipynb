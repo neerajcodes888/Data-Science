{
 "cells": [
  {
   "cell_type": "markdown",
   "id": "2302c412",
   "metadata": {},
   "source": [
    "# Case Study of Netflix Data"
   ]
  },
  {
   "cell_type": "markdown",
   "id": "0815bccc",
   "metadata": {},
   "source": [
    "### Data Taken from Kaggle"
   ]
  },
  {
   "cell_type": "markdown",
   "id": "f5e2d989",
   "metadata": {},
   "source": [
    "### 1). Importing of dataset and focus on cleaning"
   ]
  },
  {
   "cell_type": "code",
   "execution_count": null,
   "id": "c0c63a67",
   "metadata": {},
   "outputs": [],
   "source": []
  }
 ],
 "metadata": {
  "language_info": {
   "name": "python"
  }
 },
 "nbformat": 4,
 "nbformat_minor": 5
}
