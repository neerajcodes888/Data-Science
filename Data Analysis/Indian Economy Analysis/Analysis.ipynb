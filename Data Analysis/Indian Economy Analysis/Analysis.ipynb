{
 "cells": [
  {
   "cell_type": "code",
   "execution_count": 1,
   "metadata": {},
   "outputs": [
    {
     "name": "stderr",
     "output_type": "stream",
     "text": [
      "/tmp/ipykernel_4185/4080736814.py:1: DeprecationWarning: \n",
      "Pyarrow will become a required dependency of pandas in the next major release of pandas (pandas 3.0),\n",
      "(to allow more performant data types, such as the Arrow string type, and better interoperability with other libraries)\n",
      "but was not found to be installed on your system.\n",
      "If this would cause problems for you,\n",
      "please provide us feedback at https://github.com/pandas-dev/pandas/issues/54466\n",
      "        \n",
      "  import pandas as pd\n"
     ]
    }
   ],
   "source": [
    "import pandas as pd"
   ]
  },
  {
   "cell_type": "code",
   "execution_count": 2,
   "metadata": {},
   "outputs": [],
   "source": [
    "#importing all dependancies \n",
    "import pandas as pd \n",
    "import matplotlib as mpl\n",
    "import matplotlib.pyplot as plt \n",
    "import numpy as np \n"
   ]
  },
  {
   "cell_type": "code",
   "execution_count": 3,
   "metadata": {},
   "outputs": [],
   "source": [
    "#importing csv dataset file \n",
    "data=pd.read_csv('indecodata.csv')"
   ]
  },
  {
   "cell_type": "code",
   "execution_count": 4,
   "metadata": {},
   "outputs": [
    {
     "data": {
      "text/html": [
       "<div>\n",
       "<style scoped>\n",
       "    .dataframe tbody tr th:only-of-type {\n",
       "        vertical-align: middle;\n",
       "    }\n",
       "\n",
       "    .dataframe tbody tr th {\n",
       "        vertical-align: top;\n",
       "    }\n",
       "\n",
       "    .dataframe thead th {\n",
       "        text-align: right;\n",
       "    }\n",
       "</style>\n",
       "<table border=\"1\" class=\"dataframe\">\n",
       "  <thead>\n",
       "    <tr style=\"text-align: right;\">\n",
       "      <th></th>\n",
       "      <th>Series Name</th>\n",
       "      <th>Population, total</th>\n",
       "      <th>Population growth (annual %)</th>\n",
       "      <th>Life expectancy at birth, total (years)</th>\n",
       "      <th>GDP (current US$)</th>\n",
       "      <th>GDP growth (annual %)</th>\n",
       "      <th>Inflation, GDP deflator (annual %)</th>\n",
       "      <th>Agriculture, forestry, and fishing, value added (% of GDP)</th>\n",
       "      <th>Industry (including construction), value added (% of GDP)</th>\n",
       "      <th>Exports of goods and services (% of GDP)</th>\n",
       "      <th>Imports of goods and services (% of GDP)</th>\n",
       "      <th>Military expenditure (% of GDP)</th>\n",
       "      <th>Merchandise trade (% of GDP)</th>\n",
       "      <th>Foreign direct investment, net inflows (BoP, current US$)</th>\n",
       "    </tr>\n",
       "  </thead>\n",
       "  <tbody>\n",
       "    <tr>\n",
       "      <th>0</th>\n",
       "      <td>1990</td>\n",
       "      <td>873277798</td>\n",
       "      <td>2.076089</td>\n",
       "      <td>57.865</td>\n",
       "      <td>320979026420</td>\n",
       "      <td>5.533455</td>\n",
       "      <td>10.668304</td>\n",
       "      <td>26.896438</td>\n",
       "      <td>27.453695</td>\n",
       "      <td>7.053350</td>\n",
       "      <td>8.452911</td>\n",
       "      <td>3.146215</td>\n",
       "      <td>12.944459</td>\n",
       "      <td>2.366900e+08</td>\n",
       "    </tr>\n",
       "    <tr>\n",
       "      <th>1</th>\n",
       "      <td>1991</td>\n",
       "      <td>891273209</td>\n",
       "      <td>2.039730</td>\n",
       "      <td>58.353</td>\n",
       "      <td>270105341879</td>\n",
       "      <td>1.056831</td>\n",
       "      <td>13.751819</td>\n",
       "      <td>27.333218</td>\n",
       "      <td>26.441720</td>\n",
       "      <td>8.494241</td>\n",
       "      <td>8.493486</td>\n",
       "      <td>2.909974</td>\n",
       "      <td>14.133375</td>\n",
       "      <td>7.353764e+07</td>\n",
       "    </tr>\n",
       "    <tr>\n",
       "      <th>2</th>\n",
       "      <td>1992</td>\n",
       "      <td>909307016</td>\n",
       "      <td>2.003178</td>\n",
       "      <td>58.851</td>\n",
       "      <td>288208430384</td>\n",
       "      <td>5.482396</td>\n",
       "      <td>8.965152</td>\n",
       "      <td>26.669772</td>\n",
       "      <td>26.792743</td>\n",
       "      <td>8.842927</td>\n",
       "      <td>9.590172</td>\n",
       "      <td>2.704840</td>\n",
       "      <td>14.991581</td>\n",
       "      <td>2.765124e+08</td>\n",
       "    </tr>\n",
       "    <tr>\n",
       "      <th>3</th>\n",
       "      <td>1993</td>\n",
       "      <td>927403860</td>\n",
       "      <td>1.970635</td>\n",
       "      <td>59.349</td>\n",
       "      <td>279296022988</td>\n",
       "      <td>4.750776</td>\n",
       "      <td>9.861783</td>\n",
       "      <td>26.881801</td>\n",
       "      <td>26.781554</td>\n",
       "      <td>9.834217</td>\n",
       "      <td>9.817322</td>\n",
       "      <td>2.823542</td>\n",
       "      <td>15.882790</td>\n",
       "      <td>5.503700e+08</td>\n",
       "    </tr>\n",
       "    <tr>\n",
       "      <th>4</th>\n",
       "      <td>1994</td>\n",
       "      <td>945601831</td>\n",
       "      <td>1.943245</td>\n",
       "      <td>59.840</td>\n",
       "      <td>327275583540</td>\n",
       "      <td>6.658924</td>\n",
       "      <td>9.980045</td>\n",
       "      <td>26.388619</td>\n",
       "      <td>27.628201</td>\n",
       "      <td>9.888085</td>\n",
       "      <td>10.190059</td>\n",
       "      <td>2.664674</td>\n",
       "      <td>15.847501</td>\n",
       "      <td>9.732715e+08</td>\n",
       "    </tr>\n",
       "  </tbody>\n",
       "</table>\n",
       "</div>"
      ],
      "text/plain": [
       "   Series Name  Population, total  Population growth (annual %)  \\\n",
       "0         1990          873277798                      2.076089   \n",
       "1         1991          891273209                      2.039730   \n",
       "2         1992          909307016                      2.003178   \n",
       "3         1993          927403860                      1.970635   \n",
       "4         1994          945601831                      1.943245   \n",
       "\n",
       "   Life expectancy at birth, total (years)  GDP (current US$)  \\\n",
       "0                                   57.865       320979026420   \n",
       "1                                   58.353       270105341879   \n",
       "2                                   58.851       288208430384   \n",
       "3                                   59.349       279296022988   \n",
       "4                                   59.840       327275583540   \n",
       "\n",
       "   GDP growth (annual %)  Inflation, GDP deflator (annual %)  \\\n",
       "0               5.533455                           10.668304   \n",
       "1               1.056831                           13.751819   \n",
       "2               5.482396                            8.965152   \n",
       "3               4.750776                            9.861783   \n",
       "4               6.658924                            9.980045   \n",
       "\n",
       "   Agriculture, forestry, and fishing, value added (% of GDP)  \\\n",
       "0                                          26.896438            \n",
       "1                                          27.333218            \n",
       "2                                          26.669772            \n",
       "3                                          26.881801            \n",
       "4                                          26.388619            \n",
       "\n",
       "   Industry (including construction), value added (% of GDP)  \\\n",
       "0                                          27.453695           \n",
       "1                                          26.441720           \n",
       "2                                          26.792743           \n",
       "3                                          26.781554           \n",
       "4                                          27.628201           \n",
       "\n",
       "   Exports of goods and services (% of GDP)  \\\n",
       "0                                  7.053350   \n",
       "1                                  8.494241   \n",
       "2                                  8.842927   \n",
       "3                                  9.834217   \n",
       "4                                  9.888085   \n",
       "\n",
       "   Imports of goods and services (% of GDP)  Military expenditure (% of GDP)  \\\n",
       "0                                  8.452911                         3.146215   \n",
       "1                                  8.493486                         2.909974   \n",
       "2                                  9.590172                         2.704840   \n",
       "3                                  9.817322                         2.823542   \n",
       "4                                 10.190059                         2.664674   \n",
       "\n",
       "   Merchandise trade (% of GDP)  \\\n",
       "0                     12.944459   \n",
       "1                     14.133375   \n",
       "2                     14.991581   \n",
       "3                     15.882790   \n",
       "4                     15.847501   \n",
       "\n",
       "   Foreign direct investment, net inflows (BoP, current US$)  \n",
       "0                                       2.366900e+08          \n",
       "1                                       7.353764e+07          \n",
       "2                                       2.765124e+08          \n",
       "3                                       5.503700e+08          \n",
       "4                                       9.732715e+08          "
      ]
     },
     "execution_count": 4,
     "metadata": {},
     "output_type": "execute_result"
    }
   ],
   "source": [
    "\n",
    "#checking the data\n",
    "data.head()"
   ]
  },
  {
   "cell_type": "code",
   "execution_count": 5,
   "metadata": {},
   "outputs": [
    {
     "data": {
      "text/plain": [
       "Series Name                                                     int64\n",
       "Population, total                                               int64\n",
       "Population growth (annual %)                                  float64\n",
       "Life expectancy at birth, total (years)                       float64\n",
       "GDP (current US$)                                               int64\n",
       "GDP growth (annual %)                                         float64\n",
       "Inflation, GDP deflator (annual %)                            float64\n",
       "Agriculture, forestry, and fishing, value added (% of GDP)    float64\n",
       "Industry (including construction), value added (% of GDP)     float64\n",
       "Exports of goods and services (% of GDP)                      float64\n",
       "Imports of goods and services (% of GDP)                      float64\n",
       "Military expenditure (% of GDP)                               float64\n",
       "Merchandise trade (% of GDP)                                  float64\n",
       "Foreign direct investment, net inflows (BoP, current US$)     float64\n",
       "dtype: object"
      ]
     },
     "execution_count": 5,
     "metadata": {},
     "output_type": "execute_result"
    }
   ],
   "source": [
    "#checking all datatypes \n",
    "data.dtypes"
   ]
  },
  {
   "cell_type": "code",
   "execution_count": 7,
   "metadata": {},
   "outputs": [
    {
     "data": {
      "text/plain": [
       "Text(0.5, 1.0, 'Realation between population growth and GDP')"
      ]
     },
     "execution_count": 7,
     "metadata": {},
     "output_type": "execute_result"
    },
    {
     "data": {
      "image/png": "[encoded data removed]",
      "text/plain": [
       "<Figure size 500x500 with 1 Axes>"
      ]
     },
     "metadata": {},
     "output_type": "display_data"
    }
   ],
   "source": [
    "#importing seaborn for data plotting \n",
    "import seaborn as sns\n",
    "#relational plotting\n",
    "sns.relplot(kind='line',y='Population growth (annual %)',x='GDP (current US$)',data=data)\n",
    "plt.title(\"Realation between population growth and GDP\")"
   ]
  },
  {
   "cell_type": "code",
   "execution_count": 8,
   "metadata": {},
   "outputs": [
    {
     "data": {
      "text/plain": [
       "Index(['Series Name', 'Population, total', 'Population growth (annual %)',\n",
       "       'Life expectancy at birth, total (years)', 'GDP (current US$)',\n",
       "       'GDP growth (annual %)', 'Inflation, GDP deflator (annual %)',\n",
       "       'Agriculture, forestry, and fishing, value added (% of GDP)',\n",
       "       'Industry (including construction), value added (% of GDP)',\n",
       "       'Exports of goods and services (% of GDP)',\n",
       "       'Imports of goods and services (% of GDP)',\n",
       "       'Military expenditure (% of GDP)', 'Merchandise trade (% of GDP)',\n",
       "       'Foreign direct investment, net inflows (BoP, current US$)'],\n",
       "      dtype='object')"
      ]
     },
     "execution_count": 8,
     "metadata": {},
     "output_type": "execute_result"
    }
   ],
   "source": [
    "#checking what columns are ther in dataset \n",
    "data.columns"
   ]
  },
  {
   "cell_type": "code",
   "execution_count": null,
   "metadata": {},
   "outputs": [],
   "source": []
  }
 ],
 "metadata": {
  "kernelspec": {
   "display_name": "Python 3",
   "language": "python",
   "name": "python3"
  },
  "language_info": {
   "codemirror_mode": {
    "name": "ipython",
    "version": 3
   },
   "file_extension": ".py",
   "mimetype": "text/x-python",
   "name": "python",
   "nbconvert_exporter": "python",
   "pygments_lexer": "ipython3",
   "version": "3.10.13"
  }
 },
 "nbformat": 4,
 "nbformat_minor": 2
}
