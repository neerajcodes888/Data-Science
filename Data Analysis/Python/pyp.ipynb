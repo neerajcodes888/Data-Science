{
 "cells": [
  {
   "cell_type": "markdown",
   "id": "7875ddc5",
   "metadata": {},
   "source": [
    "Excercise 1: Swap the number without using third varible"
   ]
  },
  {
   "cell_type": "code",
   "execution_count": 4,
   "id": "70f42c77",
   "metadata": {},
   "outputs": [
    {
     "name": "stdout",
     "output_type": "stream",
     "text": [
      "5 4\n"
     ]
    }
   ],
   "source": [
    "a=4\n",
    "b=5\n",
    "a=a+b\n",
    "b=a-b\n",
    "a=a-b\n",
    "\n",
    "print(a,b)"
   ]
  },
  {
   "cell_type": "markdown",
   "id": "2890aff4",
   "metadata": {},
   "source": [
    "Exercise 2: Write a Program to extract each digit from an integer in the reverse order"
   ]
  },
  {
   "cell_type": "code",
   "execution_count": 6,
   "id": "920a271f",
   "metadata": {},
   "outputs": [
    {
     "name": "stdout",
     "output_type": "stream",
     "text": [
      "321\n"
     ]
    }
   ],
   "source": [
    "n=123\n",
    "print(str(n)[::-1])"
   ]
  },
  {
   "cell_type": "markdown",
   "id": "211dff64",
   "metadata": {},
   "source": [
    "excercise 3: Write a program that will give you the sum of 3 digits\n"
   ]
  },
  {
   "cell_type": "code",
   "execution_count": 5,
   "id": "58d3aeca",
   "metadata": {},
   "outputs": [
    {
     "name": "stdout",
     "output_type": "stream",
     "text": [
      "16\n"
     ]
    }
   ],
   "source": [
    "n=456\n",
    "sum=0;\n",
    "while(n!=0):\n",
    "    sum+=(n%10)\n",
    "    n=n/10\n",
    "print(int(sum))"
   ]
  },
  {
   "cell_type": "markdown",
   "id": "e0c0367e",
   "metadata": {},
   "source": [
    "excercise 4: Write a program that will reverse a four digit number.Also it checks whether the reverse is true.\n"
   ]
  },
  {
   "cell_type": "code",
   "execution_count": 8,
   "id": "ae6d950c",
   "metadata": {},
   "outputs": [],
   "source": [
    "n=4567\n",
    "sum=0;\n",
    "while(n!=0):\n",
    "    sum+=(n%10)\n",
    "    n=n/10\n",
    "\n",
    "st=str(sum)\n"
   ]
  },
  {
   "cell_type": "code",
   "execution_count": 9,
   "id": "bcd7e86a",
   "metadata": {},
   "outputs": [
    {
     "data": {
      "text/plain": [
       "'2'"
      ]
     },
     "execution_count": 9,
     "metadata": {},
     "output_type": "execute_result"
    }
   ],
   "source": [
    "st[0]"
   ]
  }
 ],
 "metadata": {
  "kernelspec": {
   "display_name": "Python 3",
   "language": "python",
   "name": "python3"
  },
  "language_info": {
   "codemirror_mode": {
    "name": "ipython",
    "version": 3
   },
   "file_extension": ".py",
   "mimetype": "text/x-python",
   "name": "python",
   "nbconvert_exporter": "python",
   "pygments_lexer": "ipython3",
   "version": "3.13.2"
  }
 },
 "nbformat": 4,
 "nbformat_minor": 5
}
