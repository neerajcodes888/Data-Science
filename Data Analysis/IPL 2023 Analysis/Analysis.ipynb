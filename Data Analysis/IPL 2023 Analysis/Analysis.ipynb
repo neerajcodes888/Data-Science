{
 "cells": [
  {
   "cell_type": "code",
   "execution_count": 1,
   "metadata": {},
   "outputs": [],
   "source": [
    "\n",
    "import numpy as np \n",
    "import pandas as pd \n",
    "import matplotlib.pyplot as plt;\n"
   ]
  },
  {
   "cell_type": "code",
   "execution_count": 2,
   "metadata": {},
   "outputs": [],
   "source": [
    "bowler = pd.read_csv('Datasets/IPL2023_Bowler.csv',encoding= 'unicode_escape')\n",
    "batsman = pd.read_csv('Datasets/IPL2023_Batsman.csv',encoding= 'unicode_escape')\n",
    "match_Score = pd.read_csv('Datasets/IPL2023_Matches.csv',encoding= 'unicode_escape')\n",
    "matches = pd.read_csv('Datasets/IPL2023_Match_Scoreboard.csv',encoding= 'unicode_escape')"
   ]
  }
 ],
 "metadata": {
  "kernelspec": {
   "display_name": "Python 3",
   "language": "python",
   "name": "python3"
  },
  "language_info": {
   "codemirror_mode": {
    "name": "ipython",
    "version": 3
   },
   "file_extension": ".py",
   "mimetype": "text/x-python",
   "name": "python",
   "nbconvert_exporter": "python",
   "pygments_lexer": "ipython3",
   "version": "3.11.4"
  }
 },
 "nbformat": 4,
 "nbformat_minor": 2
}
