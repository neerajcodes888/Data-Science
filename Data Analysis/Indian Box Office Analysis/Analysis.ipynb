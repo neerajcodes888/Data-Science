{
 "cells": [
  {
   "cell_type": "code",
   "execution_count": 1,
   "metadata": {},
   "outputs": [],
   "source": [
    "import pandas as pd\n",
    "import numpy as np"
   ]
  },
  {
   "cell_type": "code",
   "execution_count": 3,
   "metadata": {},
   "outputs": [],
   "source": [
    "data = pd.read_csv(\"BoxOffice Dataset.csv\")"
   ]
  },
  {
   "cell_type": "code",
   "execution_count": 4,
   "metadata": {},
   "outputs": [
    {
     "data": {
      "text/html": [
       "<div>\n",
       "<style scoped>\n",
       "    .dataframe tbody tr th:only-of-type {\n",
       "        vertical-align: middle;\n",
       "    }\n",
       "\n",
       "    .dataframe tbody tr th {\n",
       "        vertical-align: top;\n",
       "    }\n",
       "\n",
       "    .dataframe thead th {\n",
       "        text-align: right;\n",
       "    }\n",
       "</style>\n",
       "<table border=\"1\" class=\"dataframe\">\n",
       "  <thead>\n",
       "    <tr style=\"text-align: right;\">\n",
       "      <th></th>\n",
       "      <th>Unnamed: 0</th>\n",
       "      <th>SN</th>\n",
       "      <th>Movie</th>\n",
       "      <th>Worldwide</th>\n",
       "      <th>India Net</th>\n",
       "      <th>India Gross</th>\n",
       "      <th>Overseas</th>\n",
       "      <th>Budget</th>\n",
       "      <th>Verdict</th>\n",
       "    </tr>\n",
       "  </thead>\n",
       "  <tbody>\n",
       "    <tr>\n",
       "      <th>0</th>\n",
       "      <td>0</td>\n",
       "      <td>1</td>\n",
       "      <td>Pathaan</td>\n",
       "      <td>10500000000</td>\n",
       "      <td>5240000000</td>\n",
       "      <td>6570000000</td>\n",
       "      <td>3920000000</td>\n",
       "      <td>2500000000</td>\n",
       "      <td>All Time Blockbuster</td>\n",
       "    </tr>\n",
       "    <tr>\n",
       "      <th>1</th>\n",
       "      <td>1</td>\n",
       "      <td>2</td>\n",
       "      <td>Baahubali 2 The Conclusion</td>\n",
       "      <td>17880000000</td>\n",
       "      <td>5100000000</td>\n",
       "      <td>14160000000</td>\n",
       "      <td>3710000000</td>\n",
       "      <td>2500000000</td>\n",
       "      <td>All Time Blockbuster</td>\n",
       "    </tr>\n",
       "    <tr>\n",
       "      <th>2</th>\n",
       "      <td>2</td>\n",
       "      <td>3</td>\n",
       "      <td>KGF Chapter 2</td>\n",
       "      <td>12080000000</td>\n",
       "      <td>4350000000</td>\n",
       "      <td>10000000000</td>\n",
       "      <td>2070000000</td>\n",
       "      <td>1000000000</td>\n",
       "      <td>All Time Blockbuster</td>\n",
       "    </tr>\n",
       "    <tr>\n",
       "      <th>3</th>\n",
       "      <td>3</td>\n",
       "      <td>4</td>\n",
       "      <td>Dangal</td>\n",
       "      <td>20700000000</td>\n",
       "      <td>3740000000</td>\n",
       "      <td>5350000000</td>\n",
       "      <td>15350000000</td>\n",
       "      <td>700000000</td>\n",
       "      <td>All Time Blockbuster</td>\n",
       "    </tr>\n",
       "    <tr>\n",
       "      <th>4</th>\n",
       "      <td>4</td>\n",
       "      <td>5</td>\n",
       "      <td>Sanju</td>\n",
       "      <td>5880000000</td>\n",
       "      <td>3420000000</td>\n",
       "      <td>4380000000</td>\n",
       "      <td>1500000000</td>\n",
       "      <td>1000000000</td>\n",
       "      <td>All Time Blockbuster</td>\n",
       "    </tr>\n",
       "  </tbody>\n",
       "</table>\n",
       "</div>"
      ],
      "text/plain": [
       "   Unnamed: 0  SN                       Movie    Worldwide   India Net  \\\n",
       "0           0   1                     Pathaan  10500000000  5240000000   \n",
       "1           1   2  Baahubali 2 The Conclusion  17880000000  5100000000   \n",
       "2           2   3               KGF Chapter 2  12080000000  4350000000   \n",
       "3           3   4                      Dangal  20700000000  3740000000   \n",
       "4           4   5                       Sanju   5880000000  3420000000   \n",
       "\n",
       "   India Gross     Overseas      Budget               Verdict  \n",
       "0   6570000000   3920000000  2500000000  All Time Blockbuster  \n",
       "1  14160000000   3710000000  2500000000  All Time Blockbuster  \n",
       "2  10000000000   2070000000  1000000000  All Time Blockbuster  \n",
       "3   5350000000  15350000000   700000000  All Time Blockbuster  \n",
       "4   4380000000   1500000000  1000000000  All Time Blockbuster  "
      ]
     },
     "execution_count": 4,
     "metadata": {},
     "output_type": "execute_result"
    }
   ],
   "source": [
    "data.head()"
   ]
  },
  {
   "cell_type": "markdown",
   "metadata": {},
   "source": [
    "#### Here column name 'Unnamed' and 'SN' have no importamce, so we have to remove those columns."
   ]
  },
  {
   "cell_type": "code",
   "execution_count": null,
   "metadata": {},
   "outputs": [],
   "source": []
  }
 ],
 "metadata": {
  "kernelspec": {
   "display_name": "Python 3",
   "language": "python",
   "name": "python3"
  },
  "language_info": {
   "codemirror_mode": {
    "name": "ipython",
    "version": 3
   },
   "file_extension": ".py",
   "mimetype": "text/x-python",
   "name": "python",
   "nbconvert_exporter": "python",
   "pygments_lexer": "ipython3",
   "version": "3.11.4"
  }
 },
 "nbformat": 4,
 "nbformat_minor": 2
}
