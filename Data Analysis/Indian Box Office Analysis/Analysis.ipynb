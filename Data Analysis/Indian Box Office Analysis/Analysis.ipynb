{
 "cells": [
  {
   "cell_type": "code",
   "execution_count": 1,
   "metadata": {},
   "outputs": [],
   "source": [
    "import pandas as pd\n",
    "import numpy as np"
   ]
  },
  {
   "cell_type": "code",
   "execution_count": 3,
   "metadata": {},
   "outputs": [],
   "source": [
    "data = pd.read_csv(\"BoxOffice Dataset.csv\")"
   ]
  },
  {
   "cell_type": "code",
   "execution_count": 4,
   "metadata": {},
   "outputs": [
    {
     "data": {
      "text/html": [
       "<div>\n",
       "<style scoped>\n",
       "    .dataframe tbody tr th:only-of-type {\n",
       "        vertical-align: middle;\n",
       "    }\n",
       "\n",
       "    .dataframe tbody tr th {\n",
       "        vertical-align: top;\n",
       "    }\n",
       "\n",
       "    .dataframe thead th {\n",
       "        text-align: right;\n",
       "    }\n",
       "</style>\n",
       "<table border=\"1\" class=\"dataframe\">\n",
       "  <thead>\n",
       "    <tr style=\"text-align: right;\">\n",
       "      <th></th>\n",
       "      <th>Unnamed: 0</th>\n",
       "      <th>SN</th>\n",
       "      <th>Movie</th>\n",
       "      <th>Worldwide</th>\n",
       "      <th>India Net</th>\n",
       "      <th>India Gross</th>\n",
       "      <th>Overseas</th>\n",
       "      <th>Budget</th>\n",
       "      <th>Verdict</th>\n",
       "    </tr>\n",
       "  </thead>\n",
       "  <tbody>\n",
       "    <tr>\n",
       "      <th>0</th>\n",
       "      <td>0</td>\n",
       "      <td>1</td>\n",
       "      <td>Pathaan</td>\n",
       "      <td>10500000000</td>\n",
       "      <td>5240000000</td>\n",
       "      <td>6570000000</td>\n",
       "      <td>3920000000</td>\n",
       "      <td>2500000000</td>\n",
       "      <td>All Time Blockbuster</td>\n",
       "    </tr>\n",
       "    <tr>\n",
       "      <th>1</th>\n",
       "      <td>1</td>\n",
       "      <td>2</td>\n",
       "      <td>Baahubali 2 The Conclusion</td>\n",
       "      <td>17880000000</td>\n",
       "      <td>5100000000</td>\n",
       "      <td>14160000000</td>\n",
       "      <td>3710000000</td>\n",
       "      <td>2500000000</td>\n",
       "      <td>All Time Blockbuster</td>\n",
       "    </tr>\n",
       "    <tr>\n",
       "      <th>2</th>\n",
       "      <td>2</td>\n",
       "      <td>3</td>\n",
       "      <td>KGF Chapter 2</td>\n",
       "      <td>12080000000</td>\n",
       "      <td>4350000000</td>\n",
       "      <td>10000000000</td>\n",
       "      <td>2070000000</td>\n",
       "      <td>1000000000</td>\n",
       "      <td>All Time Blockbuster</td>\n",
       "    </tr>\n",
       "    <tr>\n",
       "      <th>3</th>\n",
       "      <td>3</td>\n",
       "      <td>4</td>\n",
       "      <td>Dangal</td>\n",
       "      <td>20700000000</td>\n",
       "      <td>3740000000</td>\n",
       "      <td>5350000000</td>\n",
       "      <td>15350000000</td>\n",
       "      <td>700000000</td>\n",
       "      <td>All Time Blockbuster</td>\n",
       "    </tr>\n",
       "    <tr>\n",
       "      <th>4</th>\n",
       "      <td>4</td>\n",
       "      <td>5</td>\n",
       "      <td>Sanju</td>\n",
       "      <td>5880000000</td>\n",
       "      <td>3420000000</td>\n",
       "      <td>4380000000</td>\n",
       "      <td>1500000000</td>\n",
       "      <td>1000000000</td>\n",
       "      <td>All Time Blockbuster</td>\n",
       "    </tr>\n",
       "  </tbody>\n",
       "</table>\n",
       "</div>"
      ],
      "text/plain": [
       "   Unnamed: 0  SN                       Movie    Worldwide   India Net  \\\n",
       "0           0   1                     Pathaan  10500000000  5240000000   \n",
       "1           1   2  Baahubali 2 The Conclusion  17880000000  5100000000   \n",
       "2           2   3               KGF Chapter 2  12080000000  4350000000   \n",
       "3           3   4                      Dangal  20700000000  3740000000   \n",
       "4           4   5                       Sanju   5880000000  3420000000   \n",
       "\n",
       "   India Gross     Overseas      Budget               Verdict  \n",
       "0   6570000000   3920000000  2500000000  All Time Blockbuster  \n",
       "1  14160000000   3710000000  2500000000  All Time Blockbuster  \n",
       "2  10000000000   2070000000  1000000000  All Time Blockbuster  \n",
       "3   5350000000  15350000000   700000000  All Time Blockbuster  \n",
       "4   4380000000   1500000000  1000000000  All Time Blockbuster  "
      ]
     },
     "execution_count": 4,
     "metadata": {},
     "output_type": "execute_result"
    }
   ],
   "source": [
    "data.head()"
   ]
  },
  {
   "cell_type": "markdown",
   "metadata": {},
   "source": [
    "#### Here column name 'Unnamed' and 'SN' have no importamce, so we have to remove those columns."
   ]
  },
  {
   "cell_type": "code",
   "execution_count": 5,
   "metadata": {},
   "outputs": [],
   "source": [
    "data.drop('Unnamed: 0',axis=1,inplace=True) \n",
    "data.drop('SN',axis=1,inplace=True)"
   ]
  },
  {
   "cell_type": "code",
   "execution_count": 6,
   "metadata": {},
   "outputs": [
    {
     "data": {
      "text/html": [
       "<div>\n",
       "<style scoped>\n",
       "    .dataframe tbody tr th:only-of-type {\n",
       "        vertical-align: middle;\n",
       "    }\n",
       "\n",
       "    .dataframe tbody tr th {\n",
       "        vertical-align: top;\n",
       "    }\n",
       "\n",
       "    .dataframe thead th {\n",
       "        text-align: right;\n",
       "    }\n",
       "</style>\n",
       "<table border=\"1\" class=\"dataframe\">\n",
       "  <thead>\n",
       "    <tr style=\"text-align: right;\">\n",
       "      <th></th>\n",
       "      <th>Movie</th>\n",
       "      <th>Worldwide</th>\n",
       "      <th>India Net</th>\n",
       "      <th>India Gross</th>\n",
       "      <th>Overseas</th>\n",
       "      <th>Budget</th>\n",
       "      <th>Verdict</th>\n",
       "    </tr>\n",
       "  </thead>\n",
       "  <tbody>\n",
       "    <tr>\n",
       "      <th>0</th>\n",
       "      <td>Pathaan</td>\n",
       "      <td>10500000000</td>\n",
       "      <td>5240000000</td>\n",
       "      <td>6570000000</td>\n",
       "      <td>3920000000</td>\n",
       "      <td>2500000000</td>\n",
       "      <td>All Time Blockbuster</td>\n",
       "    </tr>\n",
       "    <tr>\n",
       "      <th>1</th>\n",
       "      <td>Baahubali 2 The Conclusion</td>\n",
       "      <td>17880000000</td>\n",
       "      <td>5100000000</td>\n",
       "      <td>14160000000</td>\n",
       "      <td>3710000000</td>\n",
       "      <td>2500000000</td>\n",
       "      <td>All Time Blockbuster</td>\n",
       "    </tr>\n",
       "    <tr>\n",
       "      <th>2</th>\n",
       "      <td>KGF Chapter 2</td>\n",
       "      <td>12080000000</td>\n",
       "      <td>4350000000</td>\n",
       "      <td>10000000000</td>\n",
       "      <td>2070000000</td>\n",
       "      <td>1000000000</td>\n",
       "      <td>All Time Blockbuster</td>\n",
       "    </tr>\n",
       "    <tr>\n",
       "      <th>3</th>\n",
       "      <td>Dangal</td>\n",
       "      <td>20700000000</td>\n",
       "      <td>3740000000</td>\n",
       "      <td>5350000000</td>\n",
       "      <td>15350000000</td>\n",
       "      <td>700000000</td>\n",
       "      <td>All Time Blockbuster</td>\n",
       "    </tr>\n",
       "    <tr>\n",
       "      <th>4</th>\n",
       "      <td>Sanju</td>\n",
       "      <td>5880000000</td>\n",
       "      <td>3420000000</td>\n",
       "      <td>4380000000</td>\n",
       "      <td>1500000000</td>\n",
       "      <td>1000000000</td>\n",
       "      <td>All Time Blockbuster</td>\n",
       "    </tr>\n",
       "  </tbody>\n",
       "</table>\n",
       "</div>"
      ],
      "text/plain": [
       "                        Movie    Worldwide   India Net  India Gross  \\\n",
       "0                     Pathaan  10500000000  5240000000   6570000000   \n",
       "1  Baahubali 2 The Conclusion  17880000000  5100000000  14160000000   \n",
       "2               KGF Chapter 2  12080000000  4350000000  10000000000   \n",
       "3                      Dangal  20700000000  3740000000   5350000000   \n",
       "4                       Sanju   5880000000  3420000000   4380000000   \n",
       "\n",
       "      Overseas      Budget               Verdict  \n",
       "0   3920000000  2500000000  All Time Blockbuster  \n",
       "1   3710000000  2500000000  All Time Blockbuster  \n",
       "2   2070000000  1000000000  All Time Blockbuster  \n",
       "3  15350000000   700000000  All Time Blockbuster  \n",
       "4   1500000000  1000000000  All Time Blockbuster  "
      ]
     },
     "execution_count": 6,
     "metadata": {},
     "output_type": "execute_result"
    }
   ],
   "source": [
    "data.head()"
   ]
  },
  {
   "cell_type": "code",
   "execution_count": 7,
   "metadata": {},
   "outputs": [
    {
     "name": "stdout",
     "output_type": "stream",
     "text": [
      "<class 'pandas.core.frame.DataFrame'>\n",
      "RangeIndex: 1000 entries, 0 to 999\n",
      "Data columns (total 7 columns):\n",
      " #   Column       Non-Null Count  Dtype \n",
      "---  ------       --------------  ----- \n",
      " 0   Movie        1000 non-null   object\n",
      " 1   Worldwide    1000 non-null   int64 \n",
      " 2   India Net    1000 non-null   int64 \n",
      " 3   India Gross  1000 non-null   int64 \n",
      " 4   Overseas     1000 non-null   int64 \n",
      " 5   Budget       1000 non-null   int64 \n",
      " 6   Verdict      1000 non-null   object\n",
      "dtypes: int64(5), object(2)\n",
      "memory usage: 54.8+ KB\n"
     ]
    }
   ],
   "source": [
    "data.info()"
   ]
  },
  {
   "cell_type": "code",
   "execution_count": 8,
   "metadata": {},
   "outputs": [
    {
     "data": {
      "text/plain": [
       "Movie          0\n",
       "Worldwide      0\n",
       "India Net      0\n",
       "India Gross    0\n",
       "Overseas       0\n",
       "Budget         0\n",
       "Verdict        0\n",
       "dtype: int64"
      ]
     },
     "execution_count": 8,
     "metadata": {},
     "output_type": "execute_result"
    }
   ],
   "source": [
    "data.isnull().sum()"
   ]
  },
  {
   "cell_type": "code",
   "execution_count": 9,
   "metadata": {},
   "outputs": [
    {
     "data": {
      "text/html": [
       "<div>\n",
       "<style scoped>\n",
       "    .dataframe tbody tr th:only-of-type {\n",
       "        vertical-align: middle;\n",
       "    }\n",
       "\n",
       "    .dataframe tbody tr th {\n",
       "        vertical-align: top;\n",
       "    }\n",
       "\n",
       "    .dataframe thead th {\n",
       "        text-align: right;\n",
       "    }\n",
       "</style>\n",
       "<table border=\"1\" class=\"dataframe\">\n",
       "  <thead>\n",
       "    <tr style=\"text-align: right;\">\n",
       "      <th></th>\n",
       "      <th>Worldwide</th>\n",
       "      <th>India Net</th>\n",
       "      <th>India Gross</th>\n",
       "      <th>Overseas</th>\n",
       "      <th>Budget</th>\n",
       "    </tr>\n",
       "  </thead>\n",
       "  <tbody>\n",
       "    <tr>\n",
       "      <th>count</th>\n",
       "      <td>1.000000e+03</td>\n",
       "      <td>1.000000e+03</td>\n",
       "      <td>1.000000e+03</td>\n",
       "      <td>1.000000e+03</td>\n",
       "      <td>1.000000e+03</td>\n",
       "    </tr>\n",
       "    <tr>\n",
       "      <th>mean</th>\n",
       "      <td>1.832870e+09</td>\n",
       "      <td>4.079600e+08</td>\n",
       "      <td>6.126900e+08</td>\n",
       "      <td>9.714300e+08</td>\n",
       "      <td>5.889000e+08</td>\n",
       "    </tr>\n",
       "    <tr>\n",
       "      <th>std</th>\n",
       "      <td>1.049006e+10</td>\n",
       "      <td>5.783055e+08</td>\n",
       "      <td>9.814085e+08</td>\n",
       "      <td>8.596981e+09</td>\n",
       "      <td>2.101992e+09</td>\n",
       "    </tr>\n",
       "    <tr>\n",
       "      <th>min</th>\n",
       "      <td>0.000000e+00</td>\n",
       "      <td>2.000000e+07</td>\n",
       "      <td>0.000000e+00</td>\n",
       "      <td>0.000000e+00</td>\n",
       "      <td>0.000000e+00</td>\n",
       "    </tr>\n",
       "    <tr>\n",
       "      <th>25%</th>\n",
       "      <td>1.600000e+08</td>\n",
       "      <td>9.000000e+07</td>\n",
       "      <td>1.400000e+08</td>\n",
       "      <td>1.000000e+07</td>\n",
       "      <td>8.000000e+07</td>\n",
       "    </tr>\n",
       "    <tr>\n",
       "      <th>50%</th>\n",
       "      <td>3.700000e+08</td>\n",
       "      <td>2.000000e+08</td>\n",
       "      <td>3.100000e+08</td>\n",
       "      <td>5.000000e+07</td>\n",
       "      <td>2.000000e+08</td>\n",
       "    </tr>\n",
       "    <tr>\n",
       "      <th>75%</th>\n",
       "      <td>9.025000e+08</td>\n",
       "      <td>4.600000e+08</td>\n",
       "      <td>6.825000e+08</td>\n",
       "      <td>1.500000e+08</td>\n",
       "      <td>4.000000e+08</td>\n",
       "    </tr>\n",
       "    <tr>\n",
       "      <th>max</th>\n",
       "      <td>1.897000e+11</td>\n",
       "      <td>5.240000e+09</td>\n",
       "      <td>1.416000e+10</td>\n",
       "      <td>1.690200e+11</td>\n",
       "      <td>3.200000e+10</td>\n",
       "    </tr>\n",
       "  </tbody>\n",
       "</table>\n",
       "</div>"
      ],
      "text/plain": [
       "          Worldwide     India Net   India Gross      Overseas        Budget\n",
       "count  1.000000e+03  1.000000e+03  1.000000e+03  1.000000e+03  1.000000e+03\n",
       "mean   1.832870e+09  4.079600e+08  6.126900e+08  9.714300e+08  5.889000e+08\n",
       "std    1.049006e+10  5.783055e+08  9.814085e+08  8.596981e+09  2.101992e+09\n",
       "min    0.000000e+00  2.000000e+07  0.000000e+00  0.000000e+00  0.000000e+00\n",
       "25%    1.600000e+08  9.000000e+07  1.400000e+08  1.000000e+07  8.000000e+07\n",
       "50%    3.700000e+08  2.000000e+08  3.100000e+08  5.000000e+07  2.000000e+08\n",
       "75%    9.025000e+08  4.600000e+08  6.825000e+08  1.500000e+08  4.000000e+08\n",
       "max    1.897000e+11  5.240000e+09  1.416000e+10  1.690200e+11  3.200000e+10"
      ]
     },
     "execution_count": 9,
     "metadata": {},
     "output_type": "execute_result"
    }
   ],
   "source": [
    "data.describe()"
   ]
  },
  {
   "cell_type": "markdown",
   "metadata": {},
   "source": [
    "### The most profitable movie in the global market"
   ]
  },
  {
   "cell_type": "code",
   "execution_count": null,
   "metadata": {},
   "outputs": [],
   "source": []
  }
 ],
 "metadata": {
  "kernelspec": {
   "display_name": "Python 3",
   "language": "python",
   "name": "python3"
  },
  "language_info": {
   "codemirror_mode": {
    "name": "ipython",
    "version": 3
   },
   "file_extension": ".py",
   "mimetype": "text/x-python",
   "name": "python",
   "nbconvert_exporter": "python",
   "pygments_lexer": "ipython3",
   "version": "3.11.4"
  }
 },
 "nbformat": 4,
 "nbformat_minor": 2
}
